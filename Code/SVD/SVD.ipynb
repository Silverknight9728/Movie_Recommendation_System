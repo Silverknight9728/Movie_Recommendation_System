{
 "cells": [
  {
   "cell_type": "code",
   "execution_count": 1,
   "id": "f7406342",
   "metadata": {},
   "outputs": [],
   "source": [
    "# Importing all required libraries\n",
    "import numpy as np\n",
    "import pandas as pd\n",
    "from tqdm.notebook import tqdm\n",
    "from data import create_data,add_tags,make_dataset\n",
    "from model import SVD_rating_cross"
   ]
  },
  {
   "cell_type": "code",
   "execution_count": 2,
   "id": "e08da849",
   "metadata": {},
   "outputs": [],
   "source": [
    "path_to_links = './ml-latest-small/links.csv'\n",
    "path_to_movies = './ml-latest-small/movies.csv'\n",
    "path_to_ratings = './ml-latest-small/ratings.csv'\n",
    "path_to_tags = './ml-latest-small/tags.csv'\n",
    "\n",
    "data_ratings = pd.read_csv(path_to_ratings)\n",
    "data_ratings['title'],data_ratings['genres'],data_ratings['imdbId'],data_ratings['tmdbId'] = None, None, None, None\n",
    "data_links = pd.read_csv(path_to_links)\n",
    "data_movies = pd.read_csv(path_to_movies)\n"
   ]
  },
  {
   "cell_type": "code",
   "execution_count": null,
   "id": "266cca50",
   "metadata": {},
   "outputs": [
    {
     "data": {
      "application/vnd.jupyter.widget-view+json": {
       "model_id": "74689eb228464902834fd886b0eae4a4",
       "version_major": 2,
       "version_minor": 0
      },
      "text/plain": [
       "  0%|          | 0/100836 [00:00<?, ?it/s]"
      ]
     },
     "metadata": {},
     "output_type": "display_data"
    }
   ],
   "source": [
    "data_ratings = create_data(data_ratings, data_movies, data_links)"
   ]
  },
  {
   "cell_type": "code",
   "execution_count": 4,
   "id": "18a9b6ca",
   "metadata": {},
   "outputs": [],
   "source": [
    "data_tags = pd.read_csv(path_to_tags)\n",
    "data_ratings['Tags'] = str(list())\n"
   ]
  },
  {
   "cell_type": "code",
   "execution_count": 5,
   "id": "f53fb9cc",
   "metadata": {},
   "outputs": [
    {
     "data": {
      "application/vnd.jupyter.widget-view+json": {
       "model_id": "0220b98008c64e388c8edb91c09a86bb",
       "version_major": 2,
       "version_minor": 0
      },
      "text/plain": [
       "  0%|          | 0/3683 [00:00<?, ?it/s]"
      ]
     },
     "metadata": {},
     "output_type": "display_data"
    }
   ],
   "source": [
    "data_ratings = add_tags(data_ratings,data_tags)"
   ]
  },
  {
   "cell_type": "code",
   "execution_count": 6,
   "id": "6749ade2",
   "metadata": {},
   "outputs": [],
   "source": [
    "all_columns = list(data_ratings.columns)\n",
    "dataframe_train,dataframe_test = pd.DataFrame(columns= all_columns),pd.DataFrame(columns=all_columns)"
   ]
  },
  {
   "cell_type": "code",
   "execution_count": 7,
   "id": "e89a256a",
   "metadata": {},
   "outputs": [
    {
     "data": {
      "application/vnd.jupyter.widget-view+json": {
       "model_id": "7c4a2be6bf0e459dbfe71c6989ed110c",
       "version_major": 2,
       "version_minor": 0
      },
      "text/plain": [
       "  0%|          | 0/610 [00:00<?, ?it/s]"
      ]
     },
     "metadata": {},
     "output_type": "display_data"
    }
   ],
   "source": [
    "dataframe_train , dataframe_test = make_dataset(dataframe_train,dataframe_test,data_ratings)\n",
    "\n",
    "dataframe_train.to_csv('train.csv', index=False)\n",
    "dataframe_test.to_csv('test.csv', index=False)"
   ]
  },
  {
   "cell_type": "code",
   "execution_count": 3,
   "id": "6a342b65",
   "metadata": {},
   "outputs": [],
   "source": [
    "from sklearn.metrics.pairwise import pairwise_distances\n",
    "from scipy.sparse.linalg import svds\n",
    "from surprise import Reader, Dataset, SVD\n",
    "from surprise.model_selection import cross_validate\n",
    "import math\n",
    "from sklearn.metrics import precision_score\n",
    "from model import SVD_rating_cross , rate_pred\n",
    "from evaluation import find_criteria,find_precision_recall,get_10_rec,get_groundtruth\n",
    "\n",
    "dataframe_train = pd.read_csv('train.csv')\n",
    "dataframe_test = pd.read_csv('test.csv')\n",
    "\n",
    "temp_ls = [0, 1, 2]\n",
    "data_training = dataframe_train.iloc[:, temp_ls ]\n",
    "data_testing = dataframe_test.iloc[:, temp_ls]\n",
    "\n",
    "pred = data_testing.copy()\n",
    "pred['svd_prediction'] = None\n",
    "\n",
    "training_data = Dataset.load_from_df(data_training, Reader())\n",
    "full_training_data = training_data.build_full_trainset()\n",
    "folds = 5\n",
    "eval_criteria = ['MAE','RMSE']\n"
   ]
  },
  {
   "cell_type": "code",
   "execution_count": 4,
   "id": "c3104dbd",
   "metadata": {},
   "outputs": [
    {
     "name": "stdout",
     "output_type": "stream",
     "text": [
      "Total Users are 610 | Total movies are 8986\n"
     ]
    }
   ],
   "source": [
    "print('Total Users are ' + str(len(set(data_training.userId))) + ' | Total movies are ' + str(len(set(data_training.movieId))))\n"
   ]
  },
  {
   "cell_type": "code",
   "execution_count": 5,
   "id": "934c5160",
   "metadata": {},
   "outputs": [
    {
     "name": "stdout",
     "output_type": "stream",
     "text": [
      "Evaluating MAE, RMSE of algorithm SVD on 5 split(s).\n",
      "\n",
      "                  Fold 1  Fold 2  Fold 3  Fold 4  Fold 5  Mean    Std     \n",
      "MAE (testset)     0.6771  0.6748  0.6769  0.6726  0.6855  0.6774  0.0044  \n",
      "RMSE (testset)    0.8818  0.8787  0.8824  0.8752  0.8875  0.8811  0.0041  \n",
      "Fit time          0.55    0.77    0.59    0.55    0.58    0.61    0.08    \n",
      "Test time         0.07    0.09    0.07    0.13    0.07    0.09    0.02    \n"
     ]
    }
   ],
   "source": [
    "results = SVD_rating_cross(training_data,eval_criteria, folds)"
   ]
  },
  {
   "cell_type": "code",
   "execution_count": 6,
   "id": "be702bb7",
   "metadata": {},
   "outputs": [
    {
     "name": "stdout",
     "output_type": "stream",
     "text": [
      "Average RMSE Error: 0.8811230419735507\n",
      "Average MAE Error: 0.6773741284109766\n"
     ]
    }
   ],
   "source": [
    "print('Average RMSE Error:', sum(results['test_rmse'])/folds)\n",
    "print('Average MAE Error:', sum(results['test_mae'])/folds)"
   ]
  },
  {
   "cell_type": "code",
   "execution_count": 7,
   "id": "213b6ffc",
   "metadata": {},
   "outputs": [
    {
     "data": {
      "application/vnd.jupyter.widget-view+json": {
       "model_id": "6b97f262f4d44f2c8330ba8f9170d533",
       "version_major": 2,
       "version_minor": 0
      },
      "text/plain": [
       "  0%|          | 0/20417 [00:00<?, ?it/s]"
      ]
     },
     "metadata": {},
     "output_type": "display_data"
    }
   ],
   "source": [
    "pred = rate_pred(full_training_data, pred)"
   ]
  },
  {
   "cell_type": "code",
   "execution_count": 8,
   "id": "b508ec93",
   "metadata": {},
   "outputs": [
    {
     "name": "stdout",
     "output_type": "stream",
     "text": [
      "MSE :  0.7969706617034824\n",
      "MAE :  0.6654503599941225\n"
     ]
    }
   ],
   "source": [
    "find_criteria(pred)"
   ]
  },
  {
   "cell_type": "code",
   "execution_count": 9,
   "id": "c7e18a77",
   "metadata": {},
   "outputs": [],
   "source": [
    "from recommend import new_movie_recommendation"
   ]
  },
  {
   "cell_type": "code",
   "execution_count": 10,
   "id": "bfcf87be",
   "metadata": {},
   "outputs": [],
   "source": [
    "ls = ['UserId', 'Pred_dict']\n",
    "recommendation_pred = pd.DataFrame(columns=ls)"
   ]
  },
  {
   "cell_type": "code",
   "execution_count": 11,
   "id": "21c3659e",
   "metadata": {},
   "outputs": [],
   "source": [
    "users = list(set(data_training['userId']))"
   ]
  },
  {
   "cell_type": "code",
   "execution_count": 12,
   "id": "33e2615e",
   "metadata": {},
   "outputs": [
    {
     "data": {
      "application/vnd.jupyter.widget-view+json": {
       "model_id": "89fd9973f22044858b3754c80db469bc",
       "version_major": 2,
       "version_minor": 0
      },
      "text/plain": [
       "  0%|          | 0/610 [00:00<?, ?it/s]"
      ]
     },
     "metadata": {},
     "output_type": "display_data"
    }
   ],
   "source": [
    "import warnings\n",
    "warnings.filterwarnings('ignore')\n",
    "svd = SVD()\n",
    "svd.fit(full_training_data)\n",
    "\n",
    "for i in tqdm(range(len(users))):\n",
    "    recommendation_pred = new_movie_recommendation(users[i],data_movies, data_training, recommendation_pred,full_training_data,svd)"
   ]
  },
  {
   "cell_type": "code",
   "execution_count": 13,
   "id": "919a1bff",
   "metadata": {},
   "outputs": [
    {
     "data": {
      "application/vnd.jupyter.widget-view+json": {
       "model_id": "85674904a67d4c2fbc95f72e4a5f2db8",
       "version_major": 2,
       "version_minor": 0
      },
      "text/plain": [
       "  0%|          | 0/610 [00:00<?, ?it/s]"
      ]
     },
     "metadata": {},
     "output_type": "display_data"
    }
   ],
   "source": [
    "pred , pred_ratings = get_10_rec(recommendation_pred)\n",
    "true_set,true_set_rating = get_groundtruth(dataframe_test)\n",
    "precision, recall, ndcg = find_precision_recall(dataframe_test,pred,true_set)\n"
   ]
  },
  {
   "cell_type": "code",
   "execution_count": 14,
   "id": "faffdcc3",
   "metadata": {},
   "outputs": [
    {
     "name": "stdout",
     "output_type": "stream",
     "text": [
      "The precision of the SVD approach is: 0.20262295081967233\n"
     ]
    }
   ],
   "source": [
    "print('The precision of the SVD approach is:', sum(precision)/len(precision))"
   ]
  },
  {
   "cell_type": "code",
   "execution_count": 15,
   "id": "63f3dbe6",
   "metadata": {},
   "outputs": [
    {
     "name": "stdout",
     "output_type": "stream",
     "text": [
      "The recall of the SVD approach is: 0.09841754150429229\n"
     ]
    }
   ],
   "source": [
    "print('The recall of the SVD approach is:', sum(recall)/len(recall))"
   ]
  },
  {
   "cell_type": "code",
   "execution_count": 16,
   "id": "a453d32d",
   "metadata": {},
   "outputs": [
    {
     "name": "stdout",
     "output_type": "stream",
     "text": [
      "F1 Score:  0.13248485290515052\n"
     ]
    }
   ],
   "source": [
    "p = sum(precision)/len(precision)\n",
    "r = sum(recall)/len(recall)\n",
    "f1 = 2*p*r/(p+r)\n",
    "\n",
    "print(\"F1 Score: \", f1)"
   ]
  },
  {
   "cell_type": "code",
   "execution_count": 17,
   "id": "d9dac947",
   "metadata": {},
   "outputs": [
    {
     "name": "stdout",
     "output_type": "stream",
     "text": [
      "NDCG is: 0.19199999999999692\n"
     ]
    }
   ],
   "source": [
    "print(\"NDCG is:\",ndcg)"
   ]
  },
  {
   "cell_type": "code",
   "execution_count": null,
   "id": "08e547eb",
   "metadata": {},
   "outputs": [],
   "source": []
  }
 ],
 "metadata": {
  "kernelspec": {
   "display_name": "Python 3 (ipykernel)",
   "language": "python",
   "name": "python3"
  },
  "language_info": {
   "codemirror_mode": {
    "name": "ipython",
    "version": 3
   },
   "file_extension": ".py",
   "mimetype": "text/x-python",
   "name": "python",
   "nbconvert_exporter": "python",
   "pygments_lexer": "ipython3",
   "version": "3.9.12"
  }
 },
 "nbformat": 4,
 "nbformat_minor": 5
}
